{
 "cells": [
  {
   "cell_type": "markdown",
   "id": "8077fc0d",
   "metadata": {},
   "source": [
    "Diseño Agronomico de un cultivo con riego por goteo (Uso consutivo, Requerimiento hidrico, Tiempo de riego)\n",
    "\n",
    "-Para empezar se tiene en cuenta el area $A_{cultivo} =L \\cdot B $ en la que se va a disponer el cultivo. <br>\n",
    "-Luego se define de que manera van a ir acomodados los surcos y las plantas.<br>\n",
    "Separacion entre surcos: $ss$ y separacion entre plantas $sp$\n",
    "-Se debe buscar la evapotranspiracion maxima diaria $ET_0$<br>\n",
    "-Tener en cuenta que tipo de cultivo es y su coeficiente de cultivo en la etapa que mas exija $K_c$<br>\n",
    "-En este caso se habla de el sistema de riego por goteo. Por tanto, se tiene en cuenta la eficiencia del tipo de sistema de riego. $\\eta_r$<br>\n",
    "-Ademas se tienee en cuenta el porcentaje de area el cual se obtiene con distintas metodologias. Sin embargo la forma analitica es usar la separacion entre surcos y planta y utilizar la circunferencia usando solo el espaciamiento entre plantas como el diametro.<br>\n",
    "-Buscamos el Uso consuntivo con la siguiente ecuacion:<br>"
   ]
  },
  {
   "cell_type": "markdown",
   "id": "a0653219",
   "metadata": {},
   "source": [
    "$\\Large\n",
    "U_c = \\frac{ET_0 K_c A\\%}{\\eta_r} = [ \\frac{mm}{dia}] = [\\frac{10 m^3}{dia}] =[\\frac{10000 L}{dia}] $"
   ]
  },
  {
   "cell_type": "markdown",
   "id": "96ce85a2",
   "metadata": {},
   "source": [
    "con el porcentaje de area:"
   ]
  },
  {
   "cell_type": "markdown",
   "id": "a508bdc5",
   "metadata": {},
   "source": [
    "$\\Large\n",
    "A\\% = \\frac{A_{real}}{A_{tot}} = \\frac{ \\frac{\\pi}{4}(sp)^2 }{ ss \\cdot sp }$"
   ]
  },
  {
   "cell_type": "markdown",
   "id": "2677cd76",
   "metadata": {},
   "source": [
    "Ya con el uso consuntivo se busca el requerimiento hidrico. Primero se debe encontrar la cantidad de plantas en el area dada. Dependiendo la longitud elegida para los surcos, esta se debe dividir entre la separacion entre plantas y la otra dimension que es para la cantidad de surcos, es dividida entre la separacion entre surcos. Suponer en este caso que $L$ es la longitud de un surco y $B$ la longitud por la que se distribuyen los surcos"
   ]
  },
  {
   "cell_type": "markdown",
   "id": "0a9b7edd",
   "metadata": {},
   "source": [
    "$\\text{num. plantas} : \\#P = \\frac{L}{sp} \\frac{B}{ss} = [\\frac{m^2}{ m \\frac{ m}{planta}}] =[planta]$"
   ]
  },
  {
   "cell_type": "markdown",
   "id": "5193ee09",
   "metadata": {},
   "source": [
    "Se pasan estas plantas a plantas por hectarea. Dividiendo entre el area del cultivo. En algunos casos esta area llega a ser casi una hectarea y por tanto no hay diferencia. Entonces :<br>\n",
    "$\\frac{\\#P}{ha} = \\frac{\\#P}{LB} $ <br>\n",
    "Se debe dejar en unidades de $[\\frac{planta}{ha}]$\n"
   ]
  },
  {
   "cell_type": "markdown",
   "id": "37f107ac",
   "metadata": {},
   "source": [
    "Si el uso consuntivo se cambia a $[\\frac{L}{ha \\ dia}]$, el requerimiento hidrico es entonces:<br>\n",
    "$\\large\n",
    "REH = \\frac{U_c}{\\#P / ha} = [\\frac{\\frac{L}{ha \\ dia}}{\\frac{planta}{ha}}] =  [\\frac{L}{planta \\ dia}]$\n"
   ]
  },
  {
   "cell_type": "markdown",
   "id": "7e782672",
   "metadata": {},
   "source": [
    "Para el tiempo de riego, se tiene en cuenta que Requerimiento hidrico y la cantidad de emisores a utilizar por cada planta, tanto como el caudal del emisor."
   ]
  },
  {
   "cell_type": "markdown",
   "id": "32ea2a65",
   "metadata": {},
   "source": [
    "$\\Large \n",
    "TR = \\frac{REH}{\\#emisores/planta \\  Q_{emisor}} = [\\frac{ \\frac{L}{planta \\ dia} }{ \\frac{L}{planta \\ h} }] = [\\frac{h}{dia}]$"
   ]
  },
  {
   "cell_type": "code",
   "execution_count": 39,
   "id": "02ab7524",
   "metadata": {},
   "outputs": [
    {
     "name": "stdout",
     "output_type": "stream",
     "text": [
      "Area del cultivo =  9700 m^2\n",
      "Uso consuntivo =  4.2 mm/dia 42.0 L/dia 42000.0 L/dia\n",
      "numero de plantas =  16166.666666666668 plantas\n",
      "numero de plantas hectarea =  16666.666666666668 plantas/Ha\n",
      "Requerimiento hidrico = 2.52 L/(planta dia)\n",
      "Caudal Emisor =  4 L/h\n",
      "Tiempo de Riego = 0.63 h/dia\n",
      "Requerimiento total =  42000.0 L/dia\n"
     ]
    }
   ],
   "source": [
    "#ejemplo:\n",
    "\n",
    "L = 100 #m\n",
    "B = 97 #m\n",
    "emisorePorPlanta = 1\n",
    "#separacion entre plantas\n",
    "sp =  0.5 #m\n",
    "#separacion entre surcos\n",
    "ss = 1.2 #m\n",
    "\n",
    "\n",
    "#casi una hectarea\n",
    "Acultivo = L*B #m^2\n",
    "AcultivoHa = Acultivo/10000\n",
    "print('Area del cultivo = ',L*B,'m^2')\n",
    "\n",
    "#suponga\n",
    "ET0 = 4.2 # mm/dia\n",
    "eficienciaRiego = 0.8\n",
    "kc = 1\n",
    "Aporcentaje = 0.8\n",
    "\n",
    "#Uso concuntivo:\n",
    "Uc = (ET0 * kc * Aporcentaje)/(eficienciaRiego)\n",
    "Ucm3 = Uc*10\n",
    "UcL = Uc*10000\n",
    "print('Uso consuntivo = ',Uc,'mm/dia', Ucm3,'L/dia',UcL,'L/dia') \n",
    "\n",
    "#Numero de plantas:\n",
    "numPlantas = (L/ss)*(B/sp) # plantas\n",
    "print('numero de plantas = ', numPlantas, 'plantas')\n",
    "\n",
    "#Numero de plantas por hectarea\n",
    "numPlantasHa = numPlantas/AcultivoHa\n",
    "print('numero de plantas hectarea = ', numPlantasHa ,'plantas/Ha')\n",
    "\n",
    "#Requerimiento hidrico\n",
    "REH = UcL/numPlantasHa #L/(planta dia)\n",
    "print('Requerimiento hidrico =', REH,'L/(planta dia)')\n",
    "caudalEmisor= 0\n",
    "if round(REH)%2 == 0: #es par? si\n",
    "    caudalEmisor = int(REH)\n",
    "else:\n",
    "    caudalEmisor = round(REH) +1\n",
    "print('Caudal Emisor = ',caudalEmisor,'L/h')#l/h\n",
    "\n",
    "#Tiempo de riego\n",
    "TR = REH /(emisorePorPlanta*caudalEmisor)\n",
    "print('Tiempo de Riego =',TR,'h/dia')#h/dia\n",
    "\n",
    "#Requerimiento Total:\n",
    "REHT = REH*numPlantasHa\n",
    "print('Requerimiento total = ',REHT,'L/dia')"
   ]
  },
  {
   "cell_type": "code",
   "execution_count": null,
   "id": "49724875",
   "metadata": {},
   "outputs": [],
   "source": []
  }
 ],
 "metadata": {
  "kernelspec": {
   "display_name": "Python 3 (ipykernel)",
   "language": "python",
   "name": "python3"
  },
  "language_info": {
   "codemirror_mode": {
    "name": "ipython",
    "version": 3
   },
   "file_extension": ".py",
   "mimetype": "text/x-python",
   "name": "python",
   "nbconvert_exporter": "python",
   "pygments_lexer": "ipython3",
   "version": "3.10.9"
  }
 },
 "nbformat": 4,
 "nbformat_minor": 5
}
